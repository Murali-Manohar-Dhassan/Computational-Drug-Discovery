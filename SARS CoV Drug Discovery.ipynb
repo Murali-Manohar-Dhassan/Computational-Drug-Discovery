{
 "cells": [
  {
   "cell_type": "markdown",
   "id": "3b699a55-2d04-4b31-8f69-a0fcfc0a652a",
   "metadata": {},
   "source": [
    "# **Data Collection and Pre-Processing from the ChEMBL Database**\n",
    "\n",
    "\n",
    "\n"
   ]
  },
  {
   "cell_type": "code",
   "execution_count": 3,
   "id": "7650802d-552a-4770-96db-8514c4801bb4",
   "metadata": {},
   "outputs": [
    {
     "data": {
      "text/html": [
       "<div>\n",
       "<style scoped>\n",
       "    .dataframe tbody tr th:only-of-type {\n",
       "        vertical-align: middle;\n",
       "    }\n",
       "\n",
       "    .dataframe tbody tr th {\n",
       "        vertical-align: top;\n",
       "    }\n",
       "\n",
       "    .dataframe thead th {\n",
       "        text-align: right;\n",
       "    }\n",
       "</style>\n",
       "<table border=\"1\" class=\"dataframe\">\n",
       "  <thead>\n",
       "    <tr style=\"text-align: right;\">\n",
       "      <th></th>\n",
       "      <th>cross_references</th>\n",
       "      <th>organism</th>\n",
       "      <th>pref_name</th>\n",
       "      <th>score</th>\n",
       "      <th>species_group_flag</th>\n",
       "      <th>target_chembl_id</th>\n",
       "      <th>target_components</th>\n",
       "      <th>target_type</th>\n",
       "      <th>tax_id</th>\n",
       "    </tr>\n",
       "  </thead>\n",
       "  <tbody>\n",
       "    <tr>\n",
       "      <th>0</th>\n",
       "      <td>[{'xref_id': 'P22303', 'xref_name': None, 'xre...</td>\n",
       "      <td>Homo sapiens</td>\n",
       "      <td>Acetylcholinesterase</td>\n",
       "      <td>27.0</td>\n",
       "      <td>False</td>\n",
       "      <td>CHEMBL220</td>\n",
       "      <td>[{'accession': 'P22303', 'component_descriptio...</td>\n",
       "      <td>SINGLE PROTEIN</td>\n",
       "      <td>9606</td>\n",
       "    </tr>\n",
       "    <tr>\n",
       "      <th>1</th>\n",
       "      <td>[]</td>\n",
       "      <td>Homo sapiens</td>\n",
       "      <td>Cholinesterases; ACHE &amp; BCHE</td>\n",
       "      <td>27.0</td>\n",
       "      <td>False</td>\n",
       "      <td>CHEMBL2095233</td>\n",
       "      <td>[{'accession': 'P06276', 'component_descriptio...</td>\n",
       "      <td>SELECTIVITY GROUP</td>\n",
       "      <td>9606</td>\n",
       "    </tr>\n",
       "    <tr>\n",
       "      <th>2</th>\n",
       "      <td>[]</td>\n",
       "      <td>Drosophila melanogaster</td>\n",
       "      <td>Acetylcholinesterase</td>\n",
       "      <td>17.0</td>\n",
       "      <td>False</td>\n",
       "      <td>CHEMBL2242744</td>\n",
       "      <td>[{'accession': 'P07140', 'component_descriptio...</td>\n",
       "      <td>SINGLE PROTEIN</td>\n",
       "      <td>7227</td>\n",
       "    </tr>\n",
       "    <tr>\n",
       "      <th>3</th>\n",
       "      <td>[{'xref_id': 'P04058', 'xref_name': None, 'xre...</td>\n",
       "      <td>Torpedo californica</td>\n",
       "      <td>Acetylcholinesterase</td>\n",
       "      <td>15.0</td>\n",
       "      <td>False</td>\n",
       "      <td>CHEMBL4780</td>\n",
       "      <td>[{'accession': 'P04058', 'component_descriptio...</td>\n",
       "      <td>SINGLE PROTEIN</td>\n",
       "      <td>7787</td>\n",
       "    </tr>\n",
       "    <tr>\n",
       "      <th>4</th>\n",
       "      <td>[{'xref_id': 'P21836', 'xref_name': None, 'xre...</td>\n",
       "      <td>Mus musculus</td>\n",
       "      <td>Acetylcholinesterase</td>\n",
       "      <td>15.0</td>\n",
       "      <td>False</td>\n",
       "      <td>CHEMBL3198</td>\n",
       "      <td>[{'accession': 'P21836', 'component_descriptio...</td>\n",
       "      <td>SINGLE PROTEIN</td>\n",
       "      <td>10090</td>\n",
       "    </tr>\n",
       "    <tr>\n",
       "      <th>5</th>\n",
       "      <td>[{'xref_id': 'P37136', 'xref_name': None, 'xre...</td>\n",
       "      <td>Rattus norvegicus</td>\n",
       "      <td>Acetylcholinesterase</td>\n",
       "      <td>15.0</td>\n",
       "      <td>False</td>\n",
       "      <td>CHEMBL3199</td>\n",
       "      <td>[{'accession': 'P37136', 'component_descriptio...</td>\n",
       "      <td>SINGLE PROTEIN</td>\n",
       "      <td>10116</td>\n",
       "    </tr>\n",
       "    <tr>\n",
       "      <th>6</th>\n",
       "      <td>[{'xref_id': 'O42275', 'xref_name': None, 'xre...</td>\n",
       "      <td>Electrophorus electricus</td>\n",
       "      <td>Acetylcholinesterase</td>\n",
       "      <td>15.0</td>\n",
       "      <td>False</td>\n",
       "      <td>CHEMBL4078</td>\n",
       "      <td>[{'accession': 'O42275', 'component_descriptio...</td>\n",
       "      <td>SINGLE PROTEIN</td>\n",
       "      <td>8005</td>\n",
       "    </tr>\n",
       "    <tr>\n",
       "      <th>7</th>\n",
       "      <td>[{'xref_id': 'P23795', 'xref_name': None, 'xre...</td>\n",
       "      <td>Bos taurus</td>\n",
       "      <td>Acetylcholinesterase</td>\n",
       "      <td>15.0</td>\n",
       "      <td>False</td>\n",
       "      <td>CHEMBL4768</td>\n",
       "      <td>[{'accession': 'P23795', 'component_descriptio...</td>\n",
       "      <td>SINGLE PROTEIN</td>\n",
       "      <td>9913</td>\n",
       "    </tr>\n",
       "    <tr>\n",
       "      <th>8</th>\n",
       "      <td>[]</td>\n",
       "      <td>Anopheles gambiae</td>\n",
       "      <td>Acetylcholinesterase</td>\n",
       "      <td>15.0</td>\n",
       "      <td>False</td>\n",
       "      <td>CHEMBL2046266</td>\n",
       "      <td>[{'accession': 'Q869C3', 'component_descriptio...</td>\n",
       "      <td>SINGLE PROTEIN</td>\n",
       "      <td>7165</td>\n",
       "    </tr>\n",
       "    <tr>\n",
       "      <th>9</th>\n",
       "      <td>[]</td>\n",
       "      <td>Bemisia tabaci</td>\n",
       "      <td>AChE2</td>\n",
       "      <td>15.0</td>\n",
       "      <td>False</td>\n",
       "      <td>CHEMBL2366409</td>\n",
       "      <td>[{'accession': 'B3SST5', 'component_descriptio...</td>\n",
       "      <td>SINGLE PROTEIN</td>\n",
       "      <td>7038</td>\n",
       "    </tr>\n",
       "    <tr>\n",
       "      <th>10</th>\n",
       "      <td>[]</td>\n",
       "      <td>Leptinotarsa decemlineata</td>\n",
       "      <td>Acetylcholinesterase</td>\n",
       "      <td>15.0</td>\n",
       "      <td>False</td>\n",
       "      <td>CHEMBL2366490</td>\n",
       "      <td>[{'accession': 'Q27677', 'component_descriptio...</td>\n",
       "      <td>SINGLE PROTEIN</td>\n",
       "      <td>7539</td>\n",
       "    </tr>\n",
       "    <tr>\n",
       "      <th>11</th>\n",
       "      <td>[]</td>\n",
       "      <td>Nephotettix cincticeps</td>\n",
       "      <td>Ace-orthologous acetylcholinesterase</td>\n",
       "      <td>15.0</td>\n",
       "      <td>False</td>\n",
       "      <td>CHEMBL2366514</td>\n",
       "      <td>[{'accession': 'Q9NJH6', 'component_descriptio...</td>\n",
       "      <td>SINGLE PROTEIN</td>\n",
       "      <td>94400</td>\n",
       "    </tr>\n",
       "    <tr>\n",
       "      <th>12</th>\n",
       "      <td>[]</td>\n",
       "      <td>Gallus gallus</td>\n",
       "      <td>Acetylcholinesterase</td>\n",
       "      <td>15.0</td>\n",
       "      <td>False</td>\n",
       "      <td>CHEMBL3227914</td>\n",
       "      <td>[{'accession': 'P36196', 'component_descriptio...</td>\n",
       "      <td>SINGLE PROTEIN</td>\n",
       "      <td>9031</td>\n",
       "    </tr>\n",
       "    <tr>\n",
       "      <th>13</th>\n",
       "      <td>[]</td>\n",
       "      <td>Danio rerio</td>\n",
       "      <td>Acetylcholinesterase</td>\n",
       "      <td>15.0</td>\n",
       "      <td>False</td>\n",
       "      <td>CHEMBL3308995</td>\n",
       "      <td>[{'accession': 'Q9DDE3', 'component_descriptio...</td>\n",
       "      <td>SINGLE PROTEIN</td>\n",
       "      <td>7955</td>\n",
       "    </tr>\n",
       "    <tr>\n",
       "      <th>14</th>\n",
       "      <td>[]</td>\n",
       "      <td>Aedes aegypti</td>\n",
       "      <td>Acetylcholinesterase</td>\n",
       "      <td>15.0</td>\n",
       "      <td>False</td>\n",
       "      <td>CHEMBL4295607</td>\n",
       "      <td>[{'accession': 'Q6A2E2', 'component_descriptio...</td>\n",
       "      <td>SINGLE PROTEIN</td>\n",
       "      <td>7159</td>\n",
       "    </tr>\n",
       "    <tr>\n",
       "      <th>15</th>\n",
       "      <td>[{'xref_id': 'Q95P20', 'xref_name': None, 'xre...</td>\n",
       "      <td>Musca domestica</td>\n",
       "      <td>Acetylcholinesterase</td>\n",
       "      <td>14.0</td>\n",
       "      <td>False</td>\n",
       "      <td>CHEMBL5752</td>\n",
       "      <td>[{'accession': 'Q95P20', 'component_descriptio...</td>\n",
       "      <td>SINGLE PROTEIN</td>\n",
       "      <td>7370</td>\n",
       "    </tr>\n",
       "    <tr>\n",
       "      <th>16</th>\n",
       "      <td>[]</td>\n",
       "      <td>Plutella xylostella</td>\n",
       "      <td>Acetylcholinesterase</td>\n",
       "      <td>14.0</td>\n",
       "      <td>False</td>\n",
       "      <td>CHEMBL2242729</td>\n",
       "      <td>[{'accession': 'Q8MZM0', 'component_descriptio...</td>\n",
       "      <td>SINGLE PROTEIN</td>\n",
       "      <td>51655</td>\n",
       "    </tr>\n",
       "    <tr>\n",
       "      <th>17</th>\n",
       "      <td>[]</td>\n",
       "      <td>Musca domestica</td>\n",
       "      <td>Acetylcholinesterase</td>\n",
       "      <td>14.0</td>\n",
       "      <td>False</td>\n",
       "      <td>CHEMBL2242743</td>\n",
       "      <td>[{'accession': 'Q7YWJ9', 'component_descriptio...</td>\n",
       "      <td>SINGLE PROTEIN</td>\n",
       "      <td>7370</td>\n",
       "    </tr>\n",
       "    <tr>\n",
       "      <th>18</th>\n",
       "      <td>[]</td>\n",
       "      <td>Pediculus humanus capitis</td>\n",
       "      <td>Acetylcholinesterase</td>\n",
       "      <td>14.0</td>\n",
       "      <td>False</td>\n",
       "      <td>CHEMBL2362988</td>\n",
       "      <td>[{'accession': 'A2PZ98', 'component_descriptio...</td>\n",
       "      <td>SINGLE PROTEIN</td>\n",
       "      <td>121226</td>\n",
       "    </tr>\n",
       "    <tr>\n",
       "      <th>19</th>\n",
       "      <td>[]</td>\n",
       "      <td>Spodoptera litura</td>\n",
       "      <td>Acetylcholinesterase</td>\n",
       "      <td>14.0</td>\n",
       "      <td>False</td>\n",
       "      <td>CHEMBL2366422</td>\n",
       "      <td>[{'accession': 'C5IU80', 'component_descriptio...</td>\n",
       "      <td>SINGLE PROTEIN</td>\n",
       "      <td>69820</td>\n",
       "    </tr>\n",
       "    <tr>\n",
       "      <th>20</th>\n",
       "      <td>[]</td>\n",
       "      <td>Laodelphax striatella</td>\n",
       "      <td>Acetylcholinesterase</td>\n",
       "      <td>14.0</td>\n",
       "      <td>False</td>\n",
       "      <td>CHEMBL2366446</td>\n",
       "      <td>[{'accession': 'K4JQ36', 'component_descriptio...</td>\n",
       "      <td>SINGLE PROTEIN</td>\n",
       "      <td>195883</td>\n",
       "    </tr>\n",
       "    <tr>\n",
       "      <th>21</th>\n",
       "      <td>[]</td>\n",
       "      <td>Schizaphis graminum</td>\n",
       "      <td>Acetylcholinesterase</td>\n",
       "      <td>14.0</td>\n",
       "      <td>False</td>\n",
       "      <td>CHEMBL2366511</td>\n",
       "      <td>[{'accession': 'Q9BMJ1', 'component_descriptio...</td>\n",
       "      <td>SINGLE PROTEIN</td>\n",
       "      <td>13262</td>\n",
       "    </tr>\n",
       "    <tr>\n",
       "      <th>22</th>\n",
       "      <td>[]</td>\n",
       "      <td>Caenorhabditis elegans</td>\n",
       "      <td>Acetylcholinesterase 1</td>\n",
       "      <td>14.0</td>\n",
       "      <td>False</td>\n",
       "      <td>CHEMBL3341583</td>\n",
       "      <td>[{'accession': 'P38433', 'component_descriptio...</td>\n",
       "      <td>SINGLE PROTEIN</td>\n",
       "      <td>6239</td>\n",
       "    </tr>\n",
       "    <tr>\n",
       "      <th>23</th>\n",
       "      <td>[]</td>\n",
       "      <td>Rattus norvegicus</td>\n",
       "      <td>Acetylcholinesterase and butyrylcholinesterase...</td>\n",
       "      <td>13.0</td>\n",
       "      <td>False</td>\n",
       "      <td>CHEMBL2111475</td>\n",
       "      <td>[{'accession': 'P37136', 'component_descriptio...</td>\n",
       "      <td>SELECTIVITY GROUP</td>\n",
       "      <td>10116</td>\n",
       "    </tr>\n",
       "  </tbody>\n",
       "</table>\n",
       "</div>"
      ],
      "text/plain": [
       "                                     cross_references  \\\n",
       "0   [{'xref_id': 'P22303', 'xref_name': None, 'xre...   \n",
       "1                                                  []   \n",
       "2                                                  []   \n",
       "3   [{'xref_id': 'P04058', 'xref_name': None, 'xre...   \n",
       "4   [{'xref_id': 'P21836', 'xref_name': None, 'xre...   \n",
       "5   [{'xref_id': 'P37136', 'xref_name': None, 'xre...   \n",
       "6   [{'xref_id': 'O42275', 'xref_name': None, 'xre...   \n",
       "7   [{'xref_id': 'P23795', 'xref_name': None, 'xre...   \n",
       "8                                                  []   \n",
       "9                                                  []   \n",
       "10                                                 []   \n",
       "11                                                 []   \n",
       "12                                                 []   \n",
       "13                                                 []   \n",
       "14                                                 []   \n",
       "15  [{'xref_id': 'Q95P20', 'xref_name': None, 'xre...   \n",
       "16                                                 []   \n",
       "17                                                 []   \n",
       "18                                                 []   \n",
       "19                                                 []   \n",
       "20                                                 []   \n",
       "21                                                 []   \n",
       "22                                                 []   \n",
       "23                                                 []   \n",
       "\n",
       "                     organism  \\\n",
       "0                Homo sapiens   \n",
       "1                Homo sapiens   \n",
       "2     Drosophila melanogaster   \n",
       "3         Torpedo californica   \n",
       "4                Mus musculus   \n",
       "5           Rattus norvegicus   \n",
       "6    Electrophorus electricus   \n",
       "7                  Bos taurus   \n",
       "8           Anopheles gambiae   \n",
       "9              Bemisia tabaci   \n",
       "10  Leptinotarsa decemlineata   \n",
       "11     Nephotettix cincticeps   \n",
       "12              Gallus gallus   \n",
       "13                Danio rerio   \n",
       "14              Aedes aegypti   \n",
       "15            Musca domestica   \n",
       "16        Plutella xylostella   \n",
       "17            Musca domestica   \n",
       "18  Pediculus humanus capitis   \n",
       "19          Spodoptera litura   \n",
       "20      Laodelphax striatella   \n",
       "21        Schizaphis graminum   \n",
       "22     Caenorhabditis elegans   \n",
       "23          Rattus norvegicus   \n",
       "\n",
       "                                            pref_name  score  \\\n",
       "0                                Acetylcholinesterase   27.0   \n",
       "1                        Cholinesterases; ACHE & BCHE   27.0   \n",
       "2                                Acetylcholinesterase   17.0   \n",
       "3                                Acetylcholinesterase   15.0   \n",
       "4                                Acetylcholinesterase   15.0   \n",
       "5                                Acetylcholinesterase   15.0   \n",
       "6                                Acetylcholinesterase   15.0   \n",
       "7                                Acetylcholinesterase   15.0   \n",
       "8                                Acetylcholinesterase   15.0   \n",
       "9                                               AChE2   15.0   \n",
       "10                               Acetylcholinesterase   15.0   \n",
       "11               Ace-orthologous acetylcholinesterase   15.0   \n",
       "12                               Acetylcholinesterase   15.0   \n",
       "13                               Acetylcholinesterase   15.0   \n",
       "14                               Acetylcholinesterase   15.0   \n",
       "15                               Acetylcholinesterase   14.0   \n",
       "16                               Acetylcholinesterase   14.0   \n",
       "17                               Acetylcholinesterase   14.0   \n",
       "18                               Acetylcholinesterase   14.0   \n",
       "19                               Acetylcholinesterase   14.0   \n",
       "20                               Acetylcholinesterase   14.0   \n",
       "21                               Acetylcholinesterase   14.0   \n",
       "22                             Acetylcholinesterase 1   14.0   \n",
       "23  Acetylcholinesterase and butyrylcholinesterase...   13.0   \n",
       "\n",
       "    species_group_flag target_chembl_id  \\\n",
       "0                False        CHEMBL220   \n",
       "1                False    CHEMBL2095233   \n",
       "2                False    CHEMBL2242744   \n",
       "3                False       CHEMBL4780   \n",
       "4                False       CHEMBL3198   \n",
       "5                False       CHEMBL3199   \n",
       "6                False       CHEMBL4078   \n",
       "7                False       CHEMBL4768   \n",
       "8                False    CHEMBL2046266   \n",
       "9                False    CHEMBL2366409   \n",
       "10               False    CHEMBL2366490   \n",
       "11               False    CHEMBL2366514   \n",
       "12               False    CHEMBL3227914   \n",
       "13               False    CHEMBL3308995   \n",
       "14               False    CHEMBL4295607   \n",
       "15               False       CHEMBL5752   \n",
       "16               False    CHEMBL2242729   \n",
       "17               False    CHEMBL2242743   \n",
       "18               False    CHEMBL2362988   \n",
       "19               False    CHEMBL2366422   \n",
       "20               False    CHEMBL2366446   \n",
       "21               False    CHEMBL2366511   \n",
       "22               False    CHEMBL3341583   \n",
       "23               False    CHEMBL2111475   \n",
       "\n",
       "                                    target_components        target_type  \\\n",
       "0   [{'accession': 'P22303', 'component_descriptio...     SINGLE PROTEIN   \n",
       "1   [{'accession': 'P06276', 'component_descriptio...  SELECTIVITY GROUP   \n",
       "2   [{'accession': 'P07140', 'component_descriptio...     SINGLE PROTEIN   \n",
       "3   [{'accession': 'P04058', 'component_descriptio...     SINGLE PROTEIN   \n",
       "4   [{'accession': 'P21836', 'component_descriptio...     SINGLE PROTEIN   \n",
       "5   [{'accession': 'P37136', 'component_descriptio...     SINGLE PROTEIN   \n",
       "6   [{'accession': 'O42275', 'component_descriptio...     SINGLE PROTEIN   \n",
       "7   [{'accession': 'P23795', 'component_descriptio...     SINGLE PROTEIN   \n",
       "8   [{'accession': 'Q869C3', 'component_descriptio...     SINGLE PROTEIN   \n",
       "9   [{'accession': 'B3SST5', 'component_descriptio...     SINGLE PROTEIN   \n",
       "10  [{'accession': 'Q27677', 'component_descriptio...     SINGLE PROTEIN   \n",
       "11  [{'accession': 'Q9NJH6', 'component_descriptio...     SINGLE PROTEIN   \n",
       "12  [{'accession': 'P36196', 'component_descriptio...     SINGLE PROTEIN   \n",
       "13  [{'accession': 'Q9DDE3', 'component_descriptio...     SINGLE PROTEIN   \n",
       "14  [{'accession': 'Q6A2E2', 'component_descriptio...     SINGLE PROTEIN   \n",
       "15  [{'accession': 'Q95P20', 'component_descriptio...     SINGLE PROTEIN   \n",
       "16  [{'accession': 'Q8MZM0', 'component_descriptio...     SINGLE PROTEIN   \n",
       "17  [{'accession': 'Q7YWJ9', 'component_descriptio...     SINGLE PROTEIN   \n",
       "18  [{'accession': 'A2PZ98', 'component_descriptio...     SINGLE PROTEIN   \n",
       "19  [{'accession': 'C5IU80', 'component_descriptio...     SINGLE PROTEIN   \n",
       "20  [{'accession': 'K4JQ36', 'component_descriptio...     SINGLE PROTEIN   \n",
       "21  [{'accession': 'Q9BMJ1', 'component_descriptio...     SINGLE PROTEIN   \n",
       "22  [{'accession': 'P38433', 'component_descriptio...     SINGLE PROTEIN   \n",
       "23  [{'accession': 'P37136', 'component_descriptio...  SELECTIVITY GROUP   \n",
       "\n",
       "    tax_id  \n",
       "0     9606  \n",
       "1     9606  \n",
       "2     7227  \n",
       "3     7787  \n",
       "4    10090  \n",
       "5    10116  \n",
       "6     8005  \n",
       "7     9913  \n",
       "8     7165  \n",
       "9     7038  \n",
       "10    7539  \n",
       "11   94400  \n",
       "12    9031  \n",
       "13    7955  \n",
       "14    7159  \n",
       "15    7370  \n",
       "16   51655  \n",
       "17    7370  \n",
       "18  121226  \n",
       "19   69820  \n",
       "20  195883  \n",
       "21   13262  \n",
       "22    6239  \n",
       "23   10116  "
      ]
     },
     "execution_count": 3,
     "metadata": {},
     "output_type": "execute_result"
    }
   ],
   "source": [
    "#-------------------- REQUIREMENTS-------------------------\n",
    "'''\n",
    "pip install chemble_webresource_client\n",
    "pip install rdkit-pypi\n",
    "pip install padelpy\n",
    "\n",
    "'''\n",
    "\n",
    "import pandas as pd\n",
    "import numpy as np\n",
    "# Traget search for Acetylcholinesterase\n",
    "\n",
    "#     https://www.sciencedirect.com/topics/neuroscience/acetylcholinesterase\n",
    "from chembl_webresource_client.new_client import new_client\n",
    "target = new_client.target\n",
    "target_query = target.search('acetylcholinesterase')\n",
    "targets = pd.DataFrame.from_dict(target_query)\n",
    "targets\n"
   ]
  },
  {
   "cell_type": "markdown",
   "id": "5fa7943a-6963-4724-b05a-404759ee64d1",
   "metadata": {},
   "source": [
    "## Select and retrieve bioactivity data for Human Acetylcholinesterase (first entry)\n",
    "\n",
    "We will assign the fifth entry (which corresponds to the target protein, Human Acetylcholinesterase) to the **selected_target** variable\n"
   ]
  },
  {
   "cell_type": "code",
   "execution_count": 4,
   "id": "2d947e8b-16bb-4a8d-895e-2570b88beb9e",
   "metadata": {},
   "outputs": [
    {
     "data": {
      "text/plain": [
       "'CHEMBL220'"
      ]
     },
     "execution_count": 4,
     "metadata": {},
     "output_type": "execute_result"
    }
   ],
   "source": [
    "selected_target = targets.target_chembl_id[0]\n",
    "selected_target"
   ]
  },
  {
   "cell_type": "markdown",
   "id": "1fa54164-11ae-478f-a0a7-e9a503d9e14a",
   "metadata": {},
   "source": [
    "Here we will only retrive the bioactivity for coronavirus 2 that are reported as IC$_{50}$ value in nM (nano molecualar) unit\n"
   ]
  },
  {
   "cell_type": "code",
   "execution_count": 5,
   "id": "13e69af1-5155-488f-8bf5-90d98774586e",
   "metadata": {},
   "outputs": [],
   "source": [
    "activity = new_client.activity\n",
    "res = activity.filter(target_chembl_id=selected_target).filter(standard_type=\"IC50\")"
   ]
  },
  {
   "cell_type": "code",
   "execution_count": null,
   "id": "399027a3-b0bd-45d9-a82e-a039aba73605",
   "metadata": {},
   "outputs": [],
   "source": [
    "df = pd.DataFrame.from_dict(res)\n",
    "df"
   ]
  },
  {
   "cell_type": "code",
   "execution_count": null,
   "id": "e7196641-2c31-4086-b1b6-43d6bcae9a42",
   "metadata": {},
   "outputs": [],
   "source": [
    "df.standard_type.unique() "
   ]
  },
  {
   "cell_type": "markdown",
   "id": "63465d8e-1517-4a2f-93a4-283fd4184b84",
   "metadata": {},
   "source": [
    "Finally we will save the resulting bioactivity data to a CSV file **bioactivity_data.csv**"
   ]
  },
  {
   "cell_type": "code",
   "execution_count": null,
   "id": "60c518f6-41ee-41b3-b8d9-b11d2be7b326",
   "metadata": {},
   "outputs": [],
   "source": [
    "df.to_csv('acetylcholinesterase_01_bioactivity_IC50_raw.csv', index=False)"
   ]
  },
  {
   "cell_type": "markdown",
   "id": "a97cd2ef-0395-4df3-8a94-9bacedf21d9b",
   "metadata": {},
   "source": [
    "### Handling missing data\n",
    "If any compounds has missing value for the **standard_value** and **canonical_smiles** column then drop it."
   ]
  },
  {
   "cell_type": "code",
   "execution_count": null,
   "id": "1804d27d-2f07-4f00-bf37-c4266eb98507",
   "metadata": {},
   "outputs": [],
   "source": [
    "\n",
    "\n",
    "df2 = df[df.standard_value.notna()]\n",
    "df2 = df2[df.canonical_smiles.notna()]\n",
    "df2\n",
    "\n"
   ]
  },
  {
   "cell_type": "code",
   "execution_count": null,
   "id": "25e3f707-98e8-4699-99d5-bf105ff288be",
   "metadata": {},
   "outputs": [],
   "source": [
    "len(df2.canonical_smiles.unique())"
   ]
  },
  {
   "cell_type": "code",
   "execution_count": null,
   "id": "e385d180-5639-46de-9824-58f8ad86d631",
   "metadata": {},
   "outputs": [],
   "source": [
    "df2_nr = df2.drop_duplicates([\"canonical_smiles\"])\n",
    "df2_nr"
   ]
  },
  {
   "cell_type": "markdown",
   "id": "99bcf89b-abca-437d-81f6-4705b232f593",
   "metadata": {},
   "source": [
    "### **Data Pre-processing for the bioactivity data**\n",
    "\n",
    "#### Combine the 3 columns (molecule_chembl_id,  canonical_smiles,standard_value) and bioactivity_class into a DataFrame"
   ]
  },
  {
   "cell_type": "code",
   "execution_count": null,
   "id": "72b136bf-baef-489a-a19f-3631e7327dfe",
   "metadata": {},
   "outputs": [],
   "source": [
    "selection = ['molecule_chembl_id','canonical_smiles','standard_value']\n",
    "df3 = df2_nr[selection]\n",
    "df3"
   ]
  },
  {
   "cell_type": "markdown",
   "id": "a8923d40-8e4f-4eb4-9a16-3600bee63cff",
   "metadata": {},
   "source": [
    "Saving dataframe to CSV file"
   ]
  },
  {
   "cell_type": "code",
   "execution_count": null,
   "id": "722958a6-096a-4be2-b6e3-ccfef924b085",
   "metadata": {},
   "outputs": [],
   "source": [
    "df3.to_csv('acetylcholinesterase_02_bioactivity_data_preprocessed.csv', index= False)"
   ]
  },
  {
   "cell_type": "markdown",
   "id": "31088b0e-3211-44b2-908b-1d7c4eb57a78",
   "metadata": {},
   "source": [
    "\n",
    "\n",
    "#### Labeling compounds as either active, inactive or intermediate\n",
    "The Bioactivity data is in the IC50 unit. Compounds having values of less than 1000nM will be consider to be **active** while those greater than 1000nM will be considered to be **inacitve**"
   ]
  },
  {
   "cell_type": "code",
   "execution_count": null,
   "id": "00457036-4428-45c1-bcac-fb247f2a8920",
   "metadata": {},
   "outputs": [],
   "source": [
    "df4 = pd.read_csv(\"acetylcholinesterase_02_bioactivity_data_preprocessed.csv\")"
   ]
  },
  {
   "cell_type": "code",
   "execution_count": null,
   "id": "1bf59cb6-7b3f-4542-afc0-e2e864c5894c",
   "metadata": {},
   "outputs": [],
   "source": [
    "bioactivity_threshold = []\n",
    "for i in df4.standard_value:\n",
    "  if float(i) >= 10000:\n",
    "    bioactivity_threshold.append(\"inactive\")\n",
    "  elif float(i) <= 1000:\n",
    "    bioactivity_threshold.append(\"active\")\n",
    "  else:\n",
    "    bioactivity_threshold.append(\"intermediate\")"
   ]
  },
  {
   "cell_type": "markdown",
   "id": "7dbd510e-6535-42bb-93da-99034b88a815",
   "metadata": {},
   "source": [
    "Iterate the other variables into a list of molecule id and the structure and the standard value"
   ]
  },
  {
   "cell_type": "code",
   "execution_count": null,
   "id": "81b8d5d2-66b6-4421-8021-db868d8341da",
   "metadata": {},
   "outputs": [],
   "source": [
    "bioactivity_class = pd.Series(bioactivity_threshold, name='class')\n",
    "df5 = pd.concat([df4, bioactivity_class], axis=1)\n",
    "df5\n"
   ]
  },
  {
   "cell_type": "code",
   "execution_count": null,
   "id": "a79fc944-32cc-4f64-ad97-b465f791f284",
   "metadata": {},
   "outputs": [],
   "source": [
    "df5.dropna()"
   ]
  },
  {
   "cell_type": "code",
   "execution_count": null,
   "id": "9f641037-5fbb-4a43-b1dc-bace3a66a92c",
   "metadata": {},
   "outputs": [],
   "source": [
    "df5.to_csv(\"acetylcholinesterase_03_bioactivity_data_curated.csv\", index=False)"
   ]
  },
  {
   "cell_type": "markdown",
   "id": "330a1bf3-3f35-4d97-9c2b-fe98f6ae4ee9",
   "metadata": {},
   "source": [
    "## **Exploratory data analysis**"
   ]
  },
  {
   "cell_type": "code",
   "execution_count": null,
   "id": "1da34b31-8aef-4196-98d0-c35a74eb8546",
   "metadata": {},
   "outputs": [],
   "source": [
    "df = pd.read_csv('acetylcholinesterase_03_bioactivity_data_curated.csv')\n"
   ]
  },
  {
   "cell_type": "code",
   "execution_count": null,
   "id": "8fc14bc6-55f9-42a2-a29d-3b3494960e33",
   "metadata": {},
   "outputs": [],
   "source": [
    "df_no_smiles = df.drop(columns='canonical_smiles')"
   ]
  },
  {
   "cell_type": "code",
   "execution_count": null,
   "id": "0b5a91bb-5b47-4c46-af41-e796fc81fbb0",
   "metadata": {},
   "outputs": [],
   "source": [
    "smiles = []\n",
    "\n",
    "for i in df.canonical_smiles.tolist():\n",
    "  cpd = str(i).split('.')\n",
    "  cpd_longest = max(cpd, key = len)\n",
    "  smiles.append(cpd_longest)\n",
    "\n",
    "smiles = pd.Series(smiles, name = 'canonical_smiles')"
   ]
  },
  {
   "cell_type": "code",
   "execution_count": null,
   "id": "d943a563-ea0c-4b78-9d1e-2b1c42bc8dd8",
   "metadata": {},
   "outputs": [],
   "source": [
    "df_clean_smiles = pd.concat([df_no_smiles,smiles], axis=1)\n",
    "df_clean_smiles.dropna(inplace=True)\n",
    "df_clean_smiles"
   ]
  },
  {
   "cell_type": "markdown",
   "id": "cff6a597-62e8-4904-8ab7-71709f9478a7",
   "metadata": {},
   "source": [
    "#### **Calculate Lipinski descriptors**\n",
    "Christopher Lipinski, a scientist at Pfizer, came up with a set of rule-of-thumb for evaluating the **druglikeness** of compounds. Such druglikeness is based on the Absorption, Distribution, Metabolism and Excretion (ADME) that is also known as the pharmacokinetic profile. Lipinski analyzed all orally active FDA-approved drugs in the formulation of what is to be known as the **Rule-of-Five** or **Lipinski's Rule**.\n",
    "\n",
    "The Lipinski's Rule stated the following:\n",
    "* Molecular weight < 500 Dalton\n",
    "* Octanol-water partition coefficient (LogP) < 5\n",
    "* Hydrogen bond donors < 5\n",
    "* Hydrogen bond acceptors < 10 "
   ]
  },
  {
   "cell_type": "code",
   "execution_count": null,
   "id": "d12753da-9707-4bee-9b57-25ecd3011395",
   "metadata": {},
   "outputs": [],
   "source": [
    "# import libraries\n",
    "import numpy as np\n",
    "from rdkit import Chem\n",
    "from rdkit.Chem import Descriptors, Lipinski\n"
   ]
  },
  {
   "cell_type": "markdown",
   "id": "e318a182-6896-4af4-bdc7-27fa0f6233aa",
   "metadata": {},
   "source": [
    "**Calculate Descriptors**"
   ]
  },
  {
   "cell_type": "code",
   "execution_count": null,
   "id": "8bf4fe84-3c52-4bce-a16f-18936842f164",
   "metadata": {},
   "outputs": [],
   "source": [
    "# Inspired by: https://codeocean.com/explore/capsules?query=tag:data-curation\n",
    "\n",
    "def lipinski(smiles, verbose=False):\n",
    "\n",
    "    moldata= []\n",
    "    for elem in smiles:\n",
    "        mol=Chem.MolFromSmiles(elem) \n",
    "        moldata.append(mol)\n",
    "       \n",
    "    baseData= np.arange(1,1)\n",
    "    i=0  \n",
    "    for mol in moldata:        \n",
    "       \n",
    "        desc_MolWt = Descriptors.MolWt(mol)\n",
    "        desc_MolLogP = Descriptors.MolLogP(mol)\n",
    "        desc_NumHDonors = Lipinski.NumHDonors(mol)\n",
    "        desc_NumHAcceptors = Lipinski.NumHAcceptors(mol)\n",
    "           \n",
    "        row = np.array([desc_MolWt,\n",
    "                        desc_MolLogP,\n",
    "                        desc_NumHDonors,\n",
    "                        desc_NumHAcceptors])   \n",
    "    \n",
    "        if(i==0):\n",
    "            baseData=row\n",
    "        else:\n",
    "            baseData=np.vstack([baseData, row])\n",
    "        i=i+1      \n",
    "    \n",
    "    columnNames=[\"MW\",\"LogP\",\"NumHDonors\",\"NumHAcceptors\"]   \n",
    "    descriptors = pd.DataFrame(data=baseData,columns=columnNames)\n",
    "    \n",
    "    return descriptors"
   ]
  },
  {
   "cell_type": "code",
   "execution_count": null,
   "id": "8f4cfbcf-37f4-420a-ade6-ce13f55074ff",
   "metadata": {},
   "outputs": [],
   "source": [
    "df_lip = lipinski(df_clean_smiles.canonical_smiles)\n",
    "df_lip"
   ]
  },
  {
   "cell_type": "code",
   "execution_count": null,
   "id": "9308fa89-add1-422b-a7a5-be5cf403e450",
   "metadata": {},
   "outputs": [],
   "source": [
    "df\n"
   ]
  },
  {
   "cell_type": "markdown",
   "id": "9319bae9-0075-4b36-bae8-f1b2135c900c",
   "metadata": {},
   "source": [
    "### Combine the dataframes \"df\" and \"df_lip\""
   ]
  },
  {
   "cell_type": "code",
   "execution_count": null,
   "id": "12fc6d61-8b21-4c6a-a8b8-d2f4cf28801e",
   "metadata": {},
   "outputs": [],
   "source": [
    "\n",
    "df_comb = pd.concat([df, df_lip], axis=1)\n",
    "df_comb\n"
   ]
  },
  {
   "cell_type": "markdown",
   "id": "600be6c9-922d-4570-a5c8-1d5b36db550a",
   "metadata": {},
   "source": [
    "### **Convert IC50 to pIC50**\n",
    "To allow **IC50** data to be more uniformly distributed, we will convert **IC50** to the negative logarithmic scale which is essentially **-log10(IC50)**.\n",
    "\n",
    "This custom function pIC50() will accept a DataFrame as input and will:\n",
    "* Take the IC50 values from the ``standard_value`` column and converts it from nM to M by multiplying the value by 10$^{-9}$\n",
    "* Take the molar value and apply -log10\n",
    "* Delete the ``standard_value`` column and create a new ``pIC50`` column"
   ]
  },
  {
   "cell_type": "code",
   "execution_count": null,
   "id": "c8aae183-23b0-41e3-a78b-4853189864ba",
   "metadata": {},
   "outputs": [],
   "source": [
    "# https://github.com/chaninlab/estrogen-receptor-alpha-qsar/blob/master/02_ER_alpha_RO5.ipynb\n",
    "\n",
    "import numpy as np\n",
    "\n",
    "def pIC50(input):\n",
    "    pIC50 = []\n",
    "\n",
    "    for i in input['standard_value_norm']:\n",
    "        molar = i*(10**-9) # Converts nM to M\n",
    "        pIC50.append(-np.log10(molar))\n",
    "\n",
    "    input['pIC50'] = pIC50\n",
    "    x = input.drop('standard_value_norm', 1)\n",
    "        \n",
    "    return x"
   ]
  },
  {
   "cell_type": "markdown",
   "id": "c9f2ca62-606b-4001-b4f8-578f60d11d7b",
   "metadata": {},
   "source": [
    "Point to note: Values greater than 100,000,000 will be fixed at 100,000,000 otherwise the negative logarithmic value will become negative."
   ]
  },
  {
   "cell_type": "code",
   "execution_count": null,
   "id": "e97761c2-3198-4cc3-94a6-9f6e8a137edf",
   "metadata": {},
   "outputs": [],
   "source": [
    "df_comb.standard_value.describe()"
   ]
  },
  {
   "cell_type": "code",
   "execution_count": null,
   "id": "38da1936-7bae-4df9-9494-c76eda2a7246",
   "metadata": {},
   "outputs": [],
   "source": [
    "-np.log10( (10**-9)* 100000000 )"
   ]
  },
  {
   "cell_type": "code",
   "execution_count": null,
   "id": "dcd930ea-cbb3-4084-b255-f896e8516fc6",
   "metadata": {},
   "outputs": [],
   "source": [
    "-np.log10( (10**-9)* 10000000000 )"
   ]
  },
  {
   "cell_type": "code",
   "execution_count": null,
   "id": "2f4a8e0c-2bad-454c-9abf-ef11e7cf5321",
   "metadata": {},
   "outputs": [],
   "source": [
    "def norm_value(input):\n",
    "    norm = []\n",
    "\n",
    "    for i in input['standard_value']:\n",
    "        if i > 100000000:\n",
    "          i = 100000000\n",
    "        norm.append(i)\n",
    "\n",
    "    input['standard_value_norm'] = norm\n",
    "    x = input.drop('standard_value', 1)\n",
    "        \n",
    "    return x"
   ]
  },
  {
   "cell_type": "markdown",
   "id": "aa72f7b8-7e36-48cb-ba0c-7df550666ce0",
   "metadata": {},
   "source": [
    "We will first apply the norm_value() function so that the values in the standard_value column is normalized."
   ]
  },
  {
   "cell_type": "code",
   "execution_count": null,
   "id": "d1ce315f-ddad-415c-934e-8caa3faf8423",
   "metadata": {},
   "outputs": [],
   "source": [
    "df_norm = norm_value(df_comb)\n",
    "df_norm"
   ]
  },
  {
   "cell_type": "code",
   "execution_count": null,
   "id": "91ea1ca9-3bee-45c7-a505-f0efe353d021",
   "metadata": {},
   "outputs": [],
   "source": [
    "df_norm.standard_value_norm.describe()"
   ]
  },
  {
   "cell_type": "code",
   "execution_count": null,
   "id": "554ea8d8-4e78-4f07-92b8-320aefe2a011",
   "metadata": {},
   "outputs": [],
   "source": [
    "df_final = pIC50(df_norm)\n",
    "df_final"
   ]
  },
  {
   "cell_type": "code",
   "execution_count": null,
   "id": "ab4a197c-ad7a-4e38-aefa-5eca32732be2",
   "metadata": {},
   "outputs": [],
   "source": [
    "df_final.pIC50.describe()"
   ]
  },
  {
   "cell_type": "markdown",
   "id": "bd14f28d-afa7-48af-bf47-5663c73c907b",
   "metadata": {},
   "source": [
    "Let's write this to CSV file."
   ]
  },
  {
   "cell_type": "code",
   "execution_count": null,
   "id": "9334d86d-3aba-478d-916f-6dcc240776a7",
   "metadata": {},
   "outputs": [],
   "source": [
    "\n",
    "\n",
    "df_final.to_csv('acetylcholinesterase_04_bioactivity_data_3class_pIC50.csv')\n"
   ]
  },
  {
   "cell_type": "markdown",
   "id": "20eff27b-c7f7-4132-b0e8-be889bacf58a",
   "metadata": {},
   "source": [
    "### **Removing the 'intermediate' bioactivity class**\n",
    "Here, we will be removing the ``intermediate`` class from our data set."
   ]
  },
  {
   "cell_type": "code",
   "execution_count": null,
   "id": "7d7ced0c-facd-465a-adc9-6974aa86a48a",
   "metadata": {},
   "outputs": [],
   "source": [
    "df_2class = df_final[df_final['class'] != 'intermediate']\n",
    "df_2class\n"
   ]
  },
  {
   "cell_type": "markdown",
   "id": "0d7a83dc-b821-4122-9ff4-27017ed51a71",
   "metadata": {},
   "source": [
    "saving this to CSV file."
   ]
  },
  {
   "cell_type": "code",
   "execution_count": null,
   "id": "a2268a6f-b38a-45e9-9f52-685e8fea2785",
   "metadata": {},
   "outputs": [],
   "source": [
    "df_2class.to_csv('acetylcholinesterase_05_bioactivity_data_2class_pIC50.csv')"
   ]
  },
  {
   "cell_type": "markdown",
   "id": "7f0c1c76-93e4-428f-9c26-1f97376bf805",
   "metadata": {},
   "source": [
    "### **Exploratory Data Analysis 2** (Chemical Space Analysis) via Lipinski descriptors"
   ]
  },
  {
   "cell_type": "code",
   "execution_count": null,
   "id": "b5ab7e49-0f44-4b20-85e8-231de83b529d",
   "metadata": {},
   "outputs": [],
   "source": [
    "import seaborn as sns\n",
    "sns.set(style = \"ticks\")\n",
    "import matplotlib.pyplot as plt\n",
    "        "
   ]
  },
  {
   "cell_type": "markdown",
   "id": "c84a3b34-a32c-497a-9a07-2ddb312f637a",
   "metadata": {},
   "source": [
    "### Freqency plot of the two bioactivity classes"
   ]
  },
  {
   "cell_type": "code",
   "execution_count": null,
   "id": "9ab90efe-f42b-4844-b6c3-ba66d3f45c8f",
   "metadata": {},
   "outputs": [],
   "source": [
    "plt.figure(figsize=(5.5, 5.5))\n",
    "\n",
    "sns.countplot(x=\"class\", data = df_norm, edgecolor=\"black\")\n",
    "\n",
    "plt.xlabel(\"Bioactivity Class\", fontsize=14, fontweight=\"bold\")\n",
    "plt.ylabel(\"Frequency\", fontsize=14, fontweight= \"bold\")\n",
    "\n"
   ]
  },
  {
   "cell_type": "markdown",
   "id": "b5e387fb-f4c7-4f5a-9b9e-a068742fdb0a",
   "metadata": {},
   "source": [
    "### **Scatter plot of MW versus LogP**\n",
    "\n",
    "It can be seen that the 2 bioactivity classes are spanning similar chemical spaces as evident by the scatter plot of MW vs LogP."
   ]
  },
  {
   "cell_type": "code",
   "execution_count": null,
   "id": "be336fe1-ecfc-4817-aa11-83c8f34a75a8",
   "metadata": {},
   "outputs": [],
   "source": [
    "plt.figure(figsize=(5.5, 5.5))\n",
    "\n",
    "sns.scatterplot(x='MW', y='LogP', data=df_norm, hue='class' ,size='pIC50', edgecolor='black', alpha=0.7)\n",
    "\n",
    "plt.xlabel('MW', fontsize=14, fontweight='bold')\n",
    "plt.ylabel('LogP', fontsize=14, fontweight='bold')\n",
    "plt.legend(bbox_to_anchor=(1.05, 1), loc=2, borderaxespad=0)\n"
   ]
  },
  {
   "cell_type": "markdown",
   "id": "e4aaffff-6acb-4781-87ba-038f595df74f",
   "metadata": {},
   "source": [
    "### Statistical analysis | Mann-Whitney U Test"
   ]
  },
  {
   "cell_type": "code",
   "execution_count": null,
   "id": "5d946319-23a1-40b9-b408-159266ec0986",
   "metadata": {},
   "outputs": [],
   "source": [
    "def mannwhitney(descriptor, verbose=False):\n",
    "  # https://machinelearningmastery.com/nonparametric-statistical-significance-tests-in-python/\n",
    "  from numpy.random import seed\n",
    "  from numpy.random import randn\n",
    "  from scipy.stats import mannwhitneyu\n",
    "\n",
    "# seed the random number generator\n",
    "  seed(1)\n",
    "\n",
    "# actives and inactives\n",
    "  selection = [descriptor, 'class']\n",
    "  df = df_norm[selection]\n",
    "  active = df[df[\"class\"] == 'active']\n",
    "  active = active[descriptor]\n",
    "\n",
    "  selection = [descriptor, 'class']\n",
    "  df = df_norm[selection]\n",
    "  inactive = df[df[\"class\"] == 'inactive']\n",
    "  inactive = inactive[descriptor]\n",
    "\n",
    "# compare samples\n",
    "  stat, p = mannwhitneyu(active, inactive)\n",
    "  #print('Statistics=%.3f, p=%.3f' % (stat, p))\n",
    "\n",
    "# interpret\n",
    "  alpha = 0.05\n",
    "  if p > alpha:\n",
    "    interpretation = 'Same distribution (fail to reject H0)'\n",
    "  else:\n",
    "    interpretation = 'Different distribution (reject H0)'\n",
    "  \n",
    "  results = pd.DataFrame({'Descriptor':descriptor,\n",
    "                          'Statistics':stat,\n",
    "                          'p':p,\n",
    "                          'alpha':alpha,\n",
    "                          'Interpretation':interpretation}, index=[0])\n",
    "  filename = 'mannwhitneyu_' + descriptor + '.csv'\n",
    "  results.to_csv(filename)\n",
    "\n",
    "  return results"
   ]
  },
  {
   "cell_type": "code",
   "execution_count": null,
   "id": "b410ed2e-47b6-4b7f-948e-f20e8111ee4b",
   "metadata": {},
   "outputs": [],
   "source": [
    "mannwhitney(\"pIC50\")"
   ]
  },
  {
   "cell_type": "code",
   "execution_count": null,
   "id": "f85a7501-b03a-44f8-8e1b-1377150e4b47",
   "metadata": {},
   "outputs": [],
   "source": [
    "plt.figure(figsize=(5.5, 5.5))\n",
    "\n",
    "sns.boxplot(x=\"class\", y= \"MW\", data = df_norm)\n",
    "\n",
    "plt.xlabel(\"Bioactivity Class\", fontsize=14, fontweight=\"bold\")\n",
    "plt.ylabel(\"MW\", fontsize=14, fontweight= \"bold\")\n",
    "\n"
   ]
  },
  {
   "cell_type": "code",
   "execution_count": null,
   "id": "ac02ccf5-2d42-4a03-99dd-16bd4cf4676f",
   "metadata": {},
   "outputs": [],
   "source": [
    "mannwhitney(\"MW\")"
   ]
  },
  {
   "cell_type": "code",
   "execution_count": null,
   "id": "89962072-bf87-4bfe-8c37-0683d68ac3c3",
   "metadata": {},
   "outputs": [],
   "source": [
    "\n",
    "\n",
    "plt.figure(figsize=(5.5, 5.5))\n",
    "\n",
    "sns.boxplot(x=\"class\", y= \"LogP\", data = df_norm)\n",
    "\n",
    "plt.xlabel(\"Bioactivity Class\", fontsize=14, fontweight=\"bold\")\n",
    "plt.ylabel(\"LogP\", fontsize=14, fontweight= \"bold\")\n",
    "\n"
   ]
  },
  {
   "cell_type": "code",
   "execution_count": null,
   "id": "eac8a206-ccc6-40c6-a6da-a77a958da2b2",
   "metadata": {},
   "outputs": [],
   "source": [
    "mannwhitney(\"LogP\")"
   ]
  },
  {
   "cell_type": "markdown",
   "id": "dcb21172-9b78-4d55-a138-0c42611881ea",
   "metadata": {},
   "source": [
    "### NumHDonors"
   ]
  },
  {
   "cell_type": "code",
   "execution_count": null,
   "id": "0f4b7de4-c60c-430e-8831-44285c6c86f9",
   "metadata": {},
   "outputs": [],
   "source": [
    "\n",
    "\n",
    "plt.figure(figsize=(5.5, 5.5))\n",
    "\n",
    "sns.boxplot(x=\"class\", y= \"NumHDonors\", data = df_norm)\n",
    "\n",
    "plt.xlabel(\"Bioactivity Class\", fontsize=14, fontweight=\"bold\")\n",
    "plt.ylabel(\"NumHDonors\", fontsize=14, fontweight= \"bold\")\n",
    "\n"
   ]
  },
  {
   "cell_type": "code",
   "execution_count": null,
   "id": "4c9874bf-a0bb-4bd9-8fca-39f0fef784ae",
   "metadata": {},
   "outputs": [],
   "source": [
    "mannwhitney(\"NumHDonors\")"
   ]
  },
  {
   "cell_type": "markdown",
   "id": "6a1adf3f-daee-40b6-980a-60f9bdee0d71",
   "metadata": {},
   "source": [
    "#### **Interpretation of Statistical Results**\n",
    "\n",
    "\n",
    "\n",
    "##### **Box Plots**\n",
    "\n",
    "###### **pIC50 values**\n",
    "\n",
    "Taking a look at pIC50 values, the **actives** and **inactives** displayed ***statistically significant difference***, which is to be expected since threshold values (``IC50 < 1,000 nM = Actives while IC50 > 10,000 nM = Inactives``, corresponding to ``pIC50 > 6 = Actives and pIC50 < 5 = Inactives``) were used to define actives and inactives.\n",
    "\n",
    "###### **Lipinski's descriptors**\n",
    "\n",
    "Of the 4 Lipinski's descriptors (MW, LogP, NumHDonors and NumHAcceptors), only LogP exhibited ***no difference*** between the **actives** and **inactives** while the other 3 descriptors (MW, NumHDonors and NumHAcceptors) shows ***statistically significant difference*** between **actives** and **inactives**."
   ]
  },
  {
   "cell_type": "markdown",
   "id": "df9848a6-a1d4-42f9-94c9-500115163c56",
   "metadata": {},
   "source": []
  },
  {
   "cell_type": "markdown",
   "id": "30332bf0-02fc-46da-8291-27d45e7466ba",
   "metadata": {},
   "source": [
    "###  Calculate molecular descriptors and fingerprints\n",
    "List and sort fingerprint XML files"
   ]
  },
  {
   "cell_type": "code",
   "execution_count": null,
   "id": "b9fedb7d-13de-4243-a5ae-c5ca480bce49",
   "metadata": {},
   "outputs": [],
   "source": [
    "import glob\n",
    "xml_files = glob.glob(\"*.xml\")\n",
    "xml_files.sort()\n",
    "xml_files"
   ]
  },
  {
   "cell_type": "markdown",
   "id": "97b8ca07-f6a2-4ae1-996c-11d55a9c3220",
   "metadata": {},
   "source": [
    "**Create a dictionary**"
   ]
  },
  {
   "cell_type": "code",
   "execution_count": null,
   "id": "736bbf4d-bf2c-4ea7-a800-72b515bbc417",
   "metadata": {},
   "outputs": [],
   "source": [
    "FP_list = ['AtomPairs2DCount',\n",
    " 'AtomPairs2D',\n",
    " 'EState',\n",
    " 'CDKextended',\n",
    " 'CDK',\n",
    " 'CDKgraphonly',\n",
    " 'KlekotaRothCount',\n",
    " 'KlekotaRoth',\n",
    " 'MACCS',\n",
    " 'PubChem',\n",
    " 'SubstructureCount',\n",
    " 'Substructure']"
   ]
  },
  {
   "cell_type": "code",
   "execution_count": null,
   "id": "9840c5c7-137b-4400-b64b-50a091ad3f11",
   "metadata": {},
   "outputs": [],
   "source": [
    "fp = dict(zip(FP_list, xml_files))\n",
    "fp"
   ]
  },
  {
   "cell_type": "markdown",
   "id": "0de22141-c08d-4984-b5f1-76be3d9e0acc",
   "metadata": {},
   "source": [
    "Load HCV dataset\n"
   ]
  },
  {
   "cell_type": "code",
   "execution_count": null,
   "id": "7cec4693-88ff-4847-a5d3-e5789b37846e",
   "metadata": {},
   "outputs": [],
   "source": [
    "import pandas as pd\n",
    "\n",
    "df = pd.read_csv('acetylcholinesterase_04_bioactivity_data_3class_pIC50.csv')\n",
    "df"
   ]
  },
  {
   "cell_type": "markdown",
   "id": "f0b78278-5db0-421e-8942-807e97ed37c9",
   "metadata": {},
   "source": [
    "#### Prepare data subset as input to PaDEL"
   ]
  },
  {
   "cell_type": "code",
   "execution_count": null,
   "id": "39983732-d965-41d9-87c2-71c8f3d8ca91",
   "metadata": {},
   "outputs": [],
   "source": [
    "df2 = pd.concat( [df['canonical_smiles'],df['molecule_chembl_id']], axis=1 )\n",
    "df2.to_csv('molecule.smi', sep='\\t', index=False, header=False)\n",
    "df2\n",
    "\n",
    "'''\n",
    "selection = ['canonical_smiles','molecule_chembl_id']\n",
    "df3_selection = df3[selection]\n",
    "df3_selection.to_csv('molecule.smi', sep='\\t', index=False, header=False)\n",
    "'''"
   ]
  },
  {
   "cell_type": "markdown",
   "id": "d43d0e38-da00-4409-95e1-fb76f2f08dbb",
   "metadata": {},
   "source": [
    "#### Calculate descriptors\n",
    "\n",
    "There are 12 fingerprint types in PaDEL. To calculate all 12, make sure to make adjustments to the **descriptortypes** input argument to any of the ones in the **fp** dictionary variable as shown above, e.g. SubstructureFingerprintCount.xml"
   ]
  },
  {
   "cell_type": "code",
   "execution_count": null,
   "id": "787041a3-b8ef-4117-b0f7-d61b9c5f0b12",
   "metadata": {},
   "outputs": [],
   "source": [
    "fp"
   ]
  },
  {
   "cell_type": "code",
   "execution_count": null,
   "id": "2e7e742d-70b1-4f24-ac2d-48bebbed1978",
   "metadata": {},
   "outputs": [],
   "source": [
    "fp['PubChem']"
   ]
  },
  {
   "cell_type": "code",
   "execution_count": null,
   "id": "e7625ec2-4b33-4179-a44f-b78c0ece582d",
   "metadata": {},
   "outputs": [],
   "source": [
    "from padelpy import padeldescriptor\n",
    "\n",
    "fingerprint = 'PubChem'\n",
    "\n",
    "fingerprint_output_file = ''.join([fingerprint,'.csv'])\n",
    "fingerprint_descriptortypes = fp[fingerprint]\n",
    "\n",
    "padeldescriptor(mol_dir='molecule.smi', \n",
    "                d_file=fingerprint_output_file, #'Substructure.csv'\n",
    "                #descriptortypes='SubstructureFingerprint.xml', \n",
    "                descriptortypes= fingerprint_descriptortypes,\n",
    "                detectaromaticity=True,\n",
    "                standardizenitro=True,\n",
    "                standardizetautomers=True,\n",
    "                threads=2,\n",
    "                removesalt=True,\n",
    "                log=True,\n",
    "                fingerprints=True)"
   ]
  },
  {
   "cell_type": "markdown",
   "id": "17844b84-35f8-445c-8bde-13d713497d3d",
   "metadata": {},
   "source": [
    "Display calculated fingerprints\n",
    "\n",
    "\n",
    "Preparing the X and Y Data Matrices\n",
    "X data matrix"
   ]
  },
  {
   "cell_type": "code",
   "execution_count": null,
   "id": "34c37ff8-6a5e-4839-9a20-8f63b1d2e969",
   "metadata": {},
   "outputs": [],
   "source": [
    "descriptors = pd.read_csv(fingerprint_output_file)\n",
    "descriptors\n",
    "X = descriptors.drop('Name', axis=1)\n",
    "X"
   ]
  },
  {
   "cell_type": "markdown",
   "id": "cbab9a5d-819d-409b-8c97-5e0f5238e7b5",
   "metadata": {},
   "source": [
    "Y variable\n",
    "Convert IC50 to pIC50"
   ]
  },
  {
   "cell_type": "code",
   "execution_count": null,
   "id": "95714849-4a40-4368-9758-8cdc5524dfac",
   "metadata": {},
   "outputs": [],
   "source": [
    "y = df['pIC50']\n",
    "y\n"
   ]
  },
  {
   "cell_type": "markdown",
   "id": "d4b339c5-8aa7-4845-873a-29835eac40d6",
   "metadata": {},
   "source": [
    "since y is a float we need to encode it to a factor or a multiclass indicator"
   ]
  },
  {
   "cell_type": "code",
   "execution_count": null,
   "id": "b93c5a27-2349-4117-8c54-81e8cfab6acc",
   "metadata": {},
   "outputs": [],
   "source": [
    "from sklearn import preprocessing\n",
    "from sklearn import utils\n",
    "\n",
    "lab_enc = preprocessing.LabelEncoder()\n",
    "y = lab_enc.fit_transform(y)\n",
    "print(utils.multiclass.type_of_target(y))"
   ]
  },
  {
   "cell_type": "markdown",
   "id": "b6f237ff-3c65-4651-8895-0e9d33e091b5",
   "metadata": {},
   "source": [
    "Build a Random Forest Model\n",
    "Remove low variance features"
   ]
  },
  {
   "cell_type": "code",
   "execution_count": null,
   "id": "bfe4105b-bea4-4275-98d1-a113632d8dfe",
   "metadata": {},
   "outputs": [],
   "source": [
    "from sklearn.feature_selection import VarianceThreshold\n",
    "\n",
    "def remove_low_variance(input_data, threshold=0.1):\n",
    "    selection = VarianceThreshold(threshold)\n",
    "    selection.fit(input_data)\n",
    "    return input_data[input_data.columns[selection.get_support(indices=True)]]\n",
    "\n",
    "X = remove_low_variance(X, threshold=0.1)\n",
    "X"
   ]
  },
  {
   "cell_type": "markdown",
   "id": "1481b579-51b6-4044-8439-9536003a4210",
   "metadata": {},
   "source": [
    "Data splitting"
   ]
  },
  {
   "cell_type": "code",
   "execution_count": null,
   "id": "55cb5f2c-a7c8-4ec4-905a-051244fec011",
   "metadata": {},
   "outputs": [],
   "source": [
    "from sklearn.model_selection import train_test_split\n",
    "\n",
    "X_train, X_test, y_train, y_test = train_test_split(X, y, test_size=0.2, random_state=42)\n"
   ]
  },
  {
   "cell_type": "code",
   "execution_count": null,
   "id": "e7aa2111-f0c2-4286-b92f-79d6d400af71",
   "metadata": {},
   "outputs": [],
   "source": [
    "X_train.shape, X_test.shape\n"
   ]
  },
  {
   "cell_type": "markdown",
   "id": "3bb3d584-df23-4d98-b493-95b3f7e2d43f",
   "metadata": {},
   "source": [
    "Model building"
   ]
  },
  {
   "cell_type": "code",
   "execution_count": null,
   "id": "4219d9b7-6a10-492e-9988-0747d219480a",
   "metadata": {},
   "outputs": [],
   "source": [
    "from sklearn.ensemble import RandomForestClassifier\n",
    "from sklearn.metrics import matthews_corrcoef\n",
    "\n",
    "model = RandomForestClassifier(n_estimators=500, random_state=42)\n",
    "model.fit(X_train, y_train)"
   ]
  },
  {
   "cell_type": "markdown",
   "id": "8a4d85ad-c5da-4c95-8907-68035b867acc",
   "metadata": {},
   "source": [
    "Apply model to make prediction\n"
   ]
  },
  {
   "cell_type": "code",
   "execution_count": null,
   "id": "a5e3fe57-39a3-49f8-8034-6524e8c3c6b6",
   "metadata": {},
   "outputs": [],
   "source": [
    "y_train_pred = model.predict(X_train)\n",
    "y_test_pred = model.predict(X_test)"
   ]
  },
  {
   "cell_type": "markdown",
   "id": "bd181574-40fc-4835-9488-c5f1703e57b4",
   "metadata": {},
   "source": [
    "Calculate model performance metrics"
   ]
  },
  {
   "cell_type": "code",
   "execution_count": null,
   "id": "e81c5e0b-d3ae-4be9-ac43-f32c93925adc",
   "metadata": {},
   "outputs": [],
   "source": [
    "mcc_train = matthews_corrcoef(y_train, y_train_pred)\n",
    "mcc_train"
   ]
  },
  {
   "cell_type": "code",
   "execution_count": null,
   "id": "c316643c-af57-437e-a1b3-dbca271f29c9",
   "metadata": {},
   "outputs": [],
   "source": [
    "mcc_test = matthews_corrcoef(y_test, y_test_pred)\n",
    "mcc_test"
   ]
  },
  {
   "cell_type": "markdown",
   "id": "da7b9c93-0959-43c6-a8f6-3f5a74da599d",
   "metadata": {},
   "source": [
    "Cross-validation"
   ]
  },
  {
   "cell_type": "code",
   "execution_count": null,
   "id": "9b615dc4-f3b1-4bc8-be75-f18a2fb57571",
   "metadata": {},
   "outputs": [],
   "source": [
    "from sklearn.model_selection import cross_val_score\n",
    "\n",
    "rf = RandomForestClassifier(n_estimators=500, random_state=42)\n",
    "cv_scores = cross_val_score(rf, X_train, y_train, cv=5)\n",
    "cv_scores"
   ]
  },
  {
   "cell_type": "code",
   "execution_count": null,
   "id": "78da966c-c364-42dd-83fc-1b8df80c7c96",
   "metadata": {},
   "outputs": [],
   "source": [
    "mcc_cv = cv_scores.mean()\n",
    "mcc_cv"
   ]
  },
  {
   "cell_type": "code",
   "execution_count": null,
   "id": "078da5b1-937b-4cbe-a4d1-f9da23c75c54",
   "metadata": {},
   "outputs": [],
   "source": [
    "model_name = pd.Series(['Random forest'], name='Name')\n",
    "mcc_train_series = pd.Series(mcc_train, name='MCC_train')\n",
    "mcc_cv_series = pd.Series(mcc_cv, name='MCC_cv')\n",
    "mcc_test_series = pd.Series(mcc_test, name='MCC_test')\n",
    "\n",
    "performance_metrics = pd.concat([model_name, mcc_train_series, mcc_cv_series, mcc_test_series], axis=1)\n",
    "performance_metrics"
   ]
  },
  {
   "cell_type": "markdown",
   "id": "5d735a2b-ab05-49e5-8b53-a39ad777fc7d",
   "metadata": {},
   "source": [
    "comparing several ML algorithms for build regression models of acetylcholinesterase inhibitors\n",
    "Import libraries"
   ]
  },
  {
   "cell_type": "code",
   "execution_count": null,
   "id": "22f5040b-619b-4144-a3e5-e2969f34f8fb",
   "metadata": {},
   "outputs": [],
   "source": [
    "import pandas as pd\n",
    "import seaborn as sns\n",
    "from sklearn.model_selection import train_test_split\n",
    "import lazypredict\n",
    "from lazypredict.Supervised import LazyRegressor"
   ]
  },
  {
   "cell_type": "markdown",
   "id": "b9cdec09-6191-46fd-ac47-f018bb4778a7",
   "metadata": {},
   "source": [
    "2. Load the data set"
   ]
  },
  {
   "cell_type": "code",
   "execution_count": null,
   "id": "c7c049e0-a620-4274-a1d9-b9505d9505ef",
   "metadata": {},
   "outputs": [],
   "source": [
    "df = pd.read_csv(\"acetylcholinesterase_06_bioactivity_data_3class_pIC50_pubchem_fp.csv\")\n"
   ]
  },
  {
   "cell_type": "code",
   "execution_count": null,
   "id": "31d5b74c-9aab-455d-b771-aab009225d32",
   "metadata": {},
   "outputs": [],
   "source": [
    "X = df.drop('pIC50', axis=1)\n",
    "Y = df.pIC50"
   ]
  },
  {
   "cell_type": "markdown",
   "id": "4ca246c6-f3d9-46c3-822f-b65ea0805b50",
   "metadata": {},
   "source": [
    "3. Data pre-processing"
   ]
  },
  {
   "cell_type": "code",
   "execution_count": null,
   "id": "735ec0f0-7cd2-449d-9455-493fcb79ec0b",
   "metadata": {},
   "outputs": [],
   "source": [
    "# Examine X dimension\n",
    "X.shape"
   ]
  },
  {
   "cell_type": "code",
   "execution_count": null,
   "id": "c4bcb496-5a03-4a53-b133-114ab329548e",
   "metadata": {},
   "outputs": [],
   "source": [
    "# Remove low variance features\n",
    "from sklearn.feature_selection import VarianceThreshold\n",
    "selection = VarianceThreshold(threshold=(.8 * (1 - .8)))    \n",
    "X = selection.fit_transform(X)\n",
    "X.shape"
   ]
  },
  {
   "cell_type": "code",
   "execution_count": null,
   "id": "f3836979-05fa-4343-8915-208337f96504",
   "metadata": {},
   "outputs": [],
   "source": [
    "# Perform data splitting using 80/20 ratio\n",
    "X_train, X_test, Y_train, Y_test = train_test_split(X, Y, test_size=0.2, rand"
   ]
  },
  {
   "cell_type": "markdown",
   "id": "babab1ff-0f33-4bf0-8c82-20f69f49ff9d",
   "metadata": {},
   "source": [
    "4. Compare ML algorithms"
   ]
  },
  {
   "cell_type": "code",
   "execution_count": null,
   "id": "bb8505ae-760e-4b79-aba4-5481391b75ad",
   "metadata": {},
   "outputs": [],
   "source": [
    "# Defines and builds the lazyclassifier\n",
    "clf = LazyRegressor(verbose=0,ignore_warnings=True, custom_metric=None)\n",
    "models_train,predictions_train = clf.fit(X_train, X_train, Y_train, Y_train)\n",
    "models_test,predictions_test = clf.fit(X_train, X_test, Y_train, Y_test)\n",
    "\n"
   ]
  },
  {
   "cell_type": "code",
   "execution_count": null,
   "id": "95fcbdad-a144-4514-967e-26c6d940e097",
   "metadata": {},
   "outputs": [],
   "source": [
    "# Performance table of the training set (80% subset)\n",
    "predictions_train"
   ]
  },
  {
   "cell_type": "code",
   "execution_count": null,
   "id": "7122b17d-6097-4b60-9ed3-3ca28b737550",
   "metadata": {},
   "outputs": [],
   "source": [
    "# Performance table of the test set (20% subset)\n",
    "predictions_test"
   ]
  },
  {
   "cell_type": "markdown",
   "id": "a11f3074-a42a-4c37-aa80-056f2a9f6900",
   "metadata": {},
   "source": [
    "5. Data visualization of model performance"
   ]
  },
  {
   "cell_type": "code",
   "execution_count": null,
   "id": "a5cfbd13-9df0-464f-bdd1-520e6a63048c",
   "metadata": {},
   "outputs": [],
   "source": [
    "# Bar plot of R-squared values\n",
    "import matplotlib.pyplot as plt\n",
    "import seaborn as sns\n",
    "\n",
    "#train[\"R-Squared\"] = [0 if i < 0 else i for i in train.iloc[:,0] ]\n",
    "\n",
    "plt.figure(figsize=(5, 10))\n",
    "sns.set_theme(style=\"whitegrid\")\n",
    "ax = sns.barplot(y=predictions_train.index, x=\"R-Squared\", data=predictions_train)\n",
    "ax.set(xlim=(0, 1))"
   ]
  },
  {
   "cell_type": "code",
   "execution_count": null,
   "id": "e3cdfa33-4074-477b-b26f-d6dfc7913877",
   "metadata": {},
   "outputs": [],
   "source": [
    "# Bar plot of RMSE values\n",
    "import matplotlib.pyplot as plt\n",
    "import seaborn as sns\n",
    "\n",
    "plt.figure(figsize=(5, 10))\n",
    "sns.set_theme(style=\"whitegrid\")\n",
    "ax = sns.barplot(y=predictions_train.index, x=\"RMSE\", data=predictions_train)\n",
    "ax.set(xlim=(0, 10))"
   ]
  },
  {
   "cell_type": "code",
   "execution_count": null,
   "id": "0b17a96c-b3c7-4e15-b12e-2ff4a6f2cd89",
   "metadata": {},
   "outputs": [],
   "source": [
    "# Bar plot of calculation time\n",
    "import matplotlib.pyplot as plt\n",
    "import seaborn as sns\n",
    "\n",
    "plt.figure(figsize=(5, 10))\n",
    "sns.set_theme(style=\"whitegrid\")\n",
    "ax = sns.barplot(y=predictions_train.index, x=\"Time Taken\", data=predictions_train)\n",
    "ax.set(xlim=(0, 10))"
   ]
  }
 ],
 "metadata": {
  "kernelspec": {
   "display_name": "Python 3",
   "language": "python",
   "name": "python3"
  },
  "language_info": {
   "codemirror_mode": {
    "name": "ipython",
    "version": 3
   },
   "file_extension": ".py",
   "mimetype": "text/x-python",
   "name": "python",
   "nbconvert_exporter": "python",
   "pygments_lexer": "ipython3",
   "version": "3.6.13"
  }
 },
 "nbformat": 4,
 "nbformat_minor": 5
}
